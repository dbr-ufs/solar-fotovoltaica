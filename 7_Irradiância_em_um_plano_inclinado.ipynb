{
  "nbformat": 4,
  "nbformat_minor": 0,
  "metadata": {
    "kernelspec": {
      "display_name": "Python 3",
      "language": "python",
      "name": "python3"
    },
    "language_info": {
      "codemirror_mode": {
        "name": "ipython",
        "version": 3
      },
      "file_extension": ".py",
      "mimetype": "text/x-python",
      "name": "python",
      "nbconvert_exporter": "python",
      "pygments_lexer": "ipython3",
      "version": "3.7.3"
    },
    "colab": {
      "name": "7. Irradiância em um plano inclinado.ipynb",
      "provenance": [],
      "include_colab_link": true
    }
  },
  "cells": [
    {
      "cell_type": "markdown",
      "metadata": {
        "id": "view-in-github",
        "colab_type": "text"
      },
      "source": [
        "<a href=\"https://colab.research.google.com/github/dbr-ufs/solar_fotovoltaica/blob/master/7_Irradi%C3%A2ncia_em_um_plano_inclinado.ipynb\" target=\"_parent\"><img src=\"https://colab.research.google.com/assets/colab-badge.svg\" alt=\"Open In Colab\"/></a>"
      ]
    },
    {
      "cell_type": "markdown",
      "metadata": {
        "id": "jHNbxFTgNXc-",
        "colab_type": "text"
      },
      "source": [
        "# Transpondo a irradiância global (GHI) de céu claro para o plano inclinado dos módulos (POA)\n",
        "\n",
        "Adaptado do link: https://pvlib-python.readthedocs.io/en/stable/auto_examples/plot_ghi_transposition.html"
      ]
    },
    {
      "cell_type": "markdown",
      "metadata": {
        "id": "BY5eJ_2SNXdA",
        "colab_type": "text"
      },
      "source": [
        "Este exemplo mostra como usar o método\n",
        ":py:meth:`pvlib.location.Location.get_clearsky` para gerar dados de irradiância global (GHI) de céu claro assim como como se usa a função\n",
        ":py:meth:`pvlib.irradiance.get_total_irradiance` para transpor para o plano inclinado dos módulos (POA).\n",
        "\n"
      ]
    },
    {
      "cell_type": "code",
      "metadata": {
        "id": "iEmjib_Hbtti",
        "colab_type": "code",
        "colab": {}
      },
      "source": [
        "try:\n",
        "  import pvlib\n",
        "except ImportError:\n",
        "  !pip install pvlib\n",
        "  import pvlib\n",
        "\n",
        "from pvlib import location\n",
        "from pvlib import irradiance\n",
        "import pandas as pd\n",
        "from matplotlib import pyplot as plt\n",
        "%matplotlib inline\n",
        "\n",
        "# For this example, we will be using Curitiba\n",
        "tz = 'America/Sao_Paulo'\n",
        "lat, lon = -25.4284, -49.2733\n",
        "\n",
        "# Create location object to store lat, lon, timezone\n",
        "site = location.Location(lat, lon, tz=tz)"
      ],
      "execution_count": null,
      "outputs": []
    },
    {
      "cell_type": "markdown",
      "metadata": {
        "id": "J0QFHhBRbxnQ",
        "colab_type": "text"
      },
      "source": [
        "## Criando Funções"
      ]
    },
    {
      "cell_type": "code",
      "metadata": {
        "id": "w8L_dDbfNXdH",
        "colab_type": "code",
        "colab": {}
      },
      "source": [
        "# Calculate clear-sky GHI and transpose to plane of array\n",
        "# Define a function so that we can re-use the sequence of operations with\n",
        "# different locations\n",
        "def get_irradiance(site_location, date, tilt, surface_azimuth):\n",
        "    # Creates one day's worth of 10 min intervals\n",
        "    times = pd.date_range(date, freq='10min', periods=6*24,\n",
        "                          tz=site_location.tz)\n",
        "    # Generate clearsky data using the Ineichen model, which is the default\n",
        "    # The get_clearsky method returns a dataframe with values for GHI, DNI,\n",
        "    # and DHI\n",
        "    clearsky = site_location.get_clearsky(times)\n",
        "    # Get solar azimuth and zenith to pass to the transposition function\n",
        "    solar_position = site_location.get_solarposition(times=times)\n",
        "    # Use the get_total_irradiance function to transpose the GHI to POA\n",
        "    POA_irradiance = irradiance.get_total_irradiance(\n",
        "        surface_tilt=tilt,\n",
        "        surface_azimuth=surface_azimuth,\n",
        "        dni=clearsky['dni'],\n",
        "        ghi=clearsky['ghi'],\n",
        "        dhi=clearsky['dhi'],\n",
        "        solar_zenith=solar_position['apparent_zenith'],\n",
        "        solar_azimuth=solar_position['azimuth'])\n",
        "    # Return DataFrame with only GHI and POA\n",
        "    return pd.DataFrame({'GHI': clearsky['ghi'],\n",
        "                         'POA': POA_irradiance['poa_global']})"
      ],
      "execution_count": 23,
      "outputs": []
    },
    {
      "cell_type": "markdown",
      "metadata": {
        "id": "uec8Sag-b5sj",
        "colab_type": "text"
      },
      "source": [
        "### Gerando gráficos usando a função definida acima"
      ]
    },
    {
      "cell_type": "code",
      "metadata": {
        "id": "4Rc5R0labmT1",
        "colab_type": "code",
        "colab": {
          "base_uri": "https://localhost:8080/",
          "height": 279
        },
        "outputId": "a50d2cef-f620-4ecb-de99-4e179f125f0a"
      },
      "source": [
        "# Get irradiance data for summer and winter solstice, assuming 10 degree tilt\n",
        "# in relation to latitude and a North facing array\n",
        "summer_irradiance = get_irradiance(site, '12-21-2020', abs(lat)-10, 0)\n",
        "winter_irradiance = get_irradiance(site, '06-21-2020', abs(lat)-10, 0)\n",
        "\n",
        "# Convert Dataframe Indexes to Hour:Minute format to make plotting easier\n",
        "summer_irradiance.index = summer_irradiance.index.strftime(\"%H:%M\")\n",
        "winter_irradiance.index = winter_irradiance.index.strftime(\"%H:%M\")\n",
        "\n",
        "# Plot GHI vs. POA for winter and summer\n",
        "fig, (ax1, ax2) = plt.subplots(1, 2, sharey=True)\n",
        "summer_irradiance['GHI'].plot(ax=ax1, label='GHI')\n",
        "summer_irradiance['POA'].plot(ax=ax1, label='POA')\n",
        "winter_irradiance['GHI'].plot(ax=ax2, label='GHI')\n",
        "winter_irradiance['POA'].plot(ax=ax2, label='POA')\n",
        "ax1.set_xlabel('Hora do Dia (Verão)')\n",
        "ax2.set_xlabel('Hora do Dia (Inverno)')\n",
        "ax1.set_ylabel('Irradiância ($W/m^2$)')\n",
        "ax1.legend()\n",
        "ax2.legend()\n",
        "plt.show()"
      ],
      "execution_count": 22,
      "outputs": [
        {
          "output_type": "display_data",
          "data": {
            "image/png": "[encoded data removed]",
            "text/plain": [
              "<Figure size 432x288 with 2 Axes>"
            ]
          },
          "metadata": {
            "tags": [],
            "needs_background": "light"
          }
        }
      ]
    },
    {
      "cell_type": "markdown",
      "metadata": {
        "id": "vy1G1sP2NXdT",
        "colab_type": "text"
      },
      "source": [
        "Observe que, no verão, não há muito ganho ao comparar a irradiância do POA com o GHI. No inverno, entretanto, a irradiância do POA é significativamente maior do que o GHI. Isso ocorre porque, no inverno, o sol está muito mais baixo no céu, portanto, um painel inclinado igual a (Latitude - 10°) terá um ângulo mais ideal em comparação com uma matriz plana. No verão, o sol fica muito mais alto no céu, e há muito pouco ganho para uma matriz inclinada em comparação com uma matriz plana.\n",
        "\n"
      ]
    },
    {
      "cell_type": "markdown",
      "metadata": {
        "id": "qzCccy6Bcb8W",
        "colab_type": "text"
      },
      "source": [
        "### Tarefa\n",
        "\n",
        "Encontre as inclinações (tilt) ótimas para Curitiba nos dias de solstício de verão e inverno."
      ]
    },
    {
      "cell_type": "markdown",
      "metadata": {
        "id": "q05IvPXYSLDb",
        "colab_type": "text"
      },
      "source": [
        "# Desafio\n",
        "\n",
        "Reproduza a animação do site PVEducation, onde se varia a latitude e a inclinação do módulo. Como resultado, obtêm-se a irradiância global no plano horizontal, no plano inclinado (POA) e a incidente (simulando o seguimento perfeito do Sol em dois eixos): https://www.pveducation.org/es/fotovoltaica/2-propiedades-de-la-luz-del-sol/la-radiaci%C3%B3n-solar-sobre-una-superficie-inclinada"
      ]
    }
  ]
}