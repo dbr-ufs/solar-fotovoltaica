{
 "cells": [
  {
   "cell_type": "markdown",
   "metadata": {},
   "source": [
    "# Como medir uma curva característica I-V"
   ]
  },
  {
   "cell_type": "markdown",
   "metadata": {},
   "source": [
    "Link para um vídeo explicativo: https://youtu.be/f1jQmhs99-w\n",
    "\n",
    "Em uma medição em ambiente real, não em simuladores, é praticamente impossível medir nas condições padrão de teste (STD), que seria: 1000 W/m², 25°C e 1,5 de Massa de Ar. Portanto, após a medição torna-se importante fazer a correção. Uma forma é transladar as curvas medidas para o STC. Conforme a norma IEC 60891 de 2009, vamos usar o procedimento 2, onde se utilizam 5 parâmetros semi-empíricos que podem ser obtidos com medições a diferentes temperaturas e irradiâncias, sendo esta a equação:\n",
    "\n",
    "$I_2 = I_1.(1 + \\alpha_{rel}.(T_2 - T_1)).\\frac{G_2}{G_1}$\n",
    "\n",
    "$V_2 = V_1 + V_{OC1}.(\\beta_{rel}.(T_2 - T_1)+ a.ln(\\frac{G_2}{G_1})) - R_s.(I_2-I_1) - \\kappa.I_2.(T_2 - T_1)$\n",
    "\n",
    "sendo:\n",
    "\n",
    "$I_1$ e $V_1$ são as correntes e tensões medidas;\n",
    "\n",
    "$I_2$ e $V_2$ são as correntes e tensões transladadas para as condições 2, no caso, STC;\n",
    "\n",
    "$G_1$ e $T_1$ são a irradiância e temperatura na codição medida;\n",
    "\n",
    "$G_2$ e $T_2$ são a irradiância e temperatura na condição desejada, no caso do STC: 1000 W/m² e 25°C;\n",
    "\n",
    "$V_{OC1}$ é a tensão de circuito aberto na condição medida;\n",
    "\n",
    "e os 5 parâmetros:\n",
    "\n",
    "$\\alpha_{rel}$ e $\\beta_{rel}$ são os coeficientes de correção de temperatura a 1000 W/m², normalmente encontrado no datasheet do fabricante;\n",
    "\n",
    "$a$, $R_s} e $\\kappa$ são parâmetros utilizados para transladar e tem alguma relação com tensão térmica $V_d$ da junção PN, com a resistência série e um coeficiente de temperatura da resistência série, respectivamente.\n",
    "\n",
    "## Medições de curvas IV sob (quase a) mesma temperatura"
   ]
  },
  {
   "cell_type": "code",
   "execution_count": 1,
   "metadata": {},
   "outputs": [],
   "source": [
    "curvasIV = dlmread('curvasIV.csv',',');\n",
    "Vm = curvasIV(:,1);\n",
    "Im = curvasIV(:,2);\n",
    "Tm = curvasIV(:,3);\n",
    "Gm = curvasIV(:,4);"
   ]
  },
  {
   "cell_type": "markdown",
   "metadata": {},
   "source": [
    "Plotando os dados de entrada"
   ]
  },
  {
   "cell_type": "code",
   "execution_count": 2,
   "metadata": {},
   "outputs": [
    {
     "data": {
      "image/png": "[encoded data removed]",
      "text/plain": [
       "<IPython.core.display.Image object>"
      ]
     },
     "metadata": {},
     "output_type": "display_data"
    }
   ],
   "source": [
    "figure\n",
    "plot(Vm,Im, '*')\n",
    "xlim([0 max(Vm)])\n",
    "ylim([0 max(Im)])\n",
    "title('dados de entrada');"
   ]
  },
  {
   "cell_type": "code",
   "execution_count": 3,
   "metadata": {},
   "outputs": [],
   "source": [
    "% Coeficientes Correção\n",
    "alfa =   0.06020000/100; % [1/ºC] na Corrente\n",
    "beta =  -0.35468047/100; % [1/ºC] na Tensão\n",
    "a  = 0.0647002;\n",
    "Rs = 0.2779663; % [Ohm]\n",
    "%kappa = 0.0032334; % [V/A.ºC]"
   ]
  },
  {
   "cell_type": "code",
   "execution_count": 4,
   "metadata": {},
   "outputs": [],
   "source": [
    "% STC\n",
    "Gobj = 1000; % [W/m2]\n",
    "Tobj = 25; % ºC"
   ]
  },
  {
   "cell_type": "markdown",
   "metadata": {},
   "source": [
    "# Encontrar o Valor de kappa\n",
    "segundo a Norma IEC 60891 de 2009"
   ]
  },
  {
   "cell_type": "code",
   "execution_count": 5,
   "metadata": {},
   "outputs": [],
   "source": [
    "%% correcao para Ponto de Máxima potência\n",
    "function val = max_P_diff_for_Rs(Im,Vm,Tm,Gm, Tobj, Gobj, alfa, beta, Rs, a,kappa)\n",
    "    Itransl = Im .* (1 + alfa.*(Tobj - Tm)) .* Gobj ./ Gm;\n",
    "    Vtransl = Vm + max(Vm).*(beta.*(Tobj - Tm) + a.*log(Gobj./Gm)) - Rs.*(Itransl - Im) - kappa.*Itransl.*(Tobj - Tm);\n",
    "    for i=1:3 %4\n",
    "        Pmp(i)     = max(Vtransl((1+56*(i-1)):56*i) .* Itransl((1+56*(i-1)):56*i));\n",
    "    end\n",
    "    val = max(abs((Pmp - median(Pmp))./median(Pmp)));\n",
    "end"
   ]
  },
  {
   "cell_type": "code",
   "execution_count": 6,
   "metadata": {},
   "outputs": [
    {
     "name": "stdout",
     "output_type": "stream",
     "text": [
      "kappa = 0.0038567\n",
      "erro_kappa  = 0.0004988\n"
     ]
    }
   ],
   "source": [
    "%% Determinacao de Kappa\n",
    "%Rs = 0; a = 0;\n",
    "kappa_objfun = @(kappa) max_P_diff_for_Rs(Im,Vm,Tm,Gm, Tobj, Gobj, alfa, beta, Rs, a, kappa);\n",
    "options = optimset('TolX', 1e-6);\n",
    "kappa = fminsearch(kappa_objfun, 0, options);\n",
    "fprintf('kappa = %.7f\\n', kappa);\n",
    "erro_kappa = kappa_objfun(kappa);\n",
    "fprintf('erro_kappa  = %.7f\\n', erro_kappa);"
   ]
  },
  {
   "cell_type": "code",
   "execution_count": 7,
   "metadata": {},
   "outputs": [],
   "source": [
    "% Transladar segundo a Norma\n",
    "Itransl = Im .* (1 + alfa.*(Tobj - Tm)) .* Gobj ./ Gm;\n",
    "Vtransl = Vm + max(Vm).*(beta.*(Tobj - Tm) + a.*log(Gobj./Gm)) - Rs.*(Itransl - Im) - kappa.*Itransl.*(Tobj - Tm);"
   ]
  },
  {
   "cell_type": "code",
   "execution_count": 8,
   "metadata": {},
   "outputs": [
    {
     "data": {
      "image/png": "[encoded data removed]",
      "text/plain": [
       "<IPython.core.display.Image object>"
      ]
     },
     "metadata": {},
     "output_type": "display_data"
    }
   ],
   "source": [
    "figure\n",
    "plot(Vtransl,Itransl, '.')\n",
    "title('Todas as curvas corrigidas para stc')"
   ]
  },
  {
   "cell_type": "markdown",
   "metadata": {},
   "source": []
  }
 ],
 "metadata": {
  "kernelspec": {
   "display_name": "Octave",
   "language": "octave",
   "name": "octave"
  },
  "language_info": {
   "file_extension": ".m",
   "help_links": [
    {
     "text": "GNU Octave",
     "url": "https://www.gnu.org/software/octave/support.html"
    },
    {
     "text": "Octave Kernel",
     "url": "https://github.com/Calysto/octave_kernel"
    },
    {
     "text": "MetaKernel Magics",
     "url": "https://metakernel.readthedocs.io/en/latest/source/README.html"
    }
   ],
   "mimetype": "text/x-octave",
   "name": "octave",
   "version": "5.2.0"
  }
 },
 "nbformat": 4,
 "nbformat_minor": 4
}
