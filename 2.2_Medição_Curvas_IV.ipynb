{
 "cells": [
  {
   "cell_type": "markdown",
   "metadata": {},
   "source": [
    "# Como medir uma curva característica I-V e transladar para o STC"
   ]
  },
  {
   "cell_type": "markdown",
   "metadata": {},
   "source": [
    "Link para um vídeo explicativo: https://youtu.be/f1jQmhs99-w\n",
    "\n",
    "Em uma medição em ambiente real, não em simuladores, é praticamente impossível medir nas condições padrão de teste (STD), que seria: 1000 W/m², 25°C e 1,5 de Massa de Ar. Portanto, após a medição torna-se importante fazer a correção. Uma forma é transladar as curvas medidas para o STC. Conforme a norma IEC 60891 de 2009, vamos usar o procedimento 2, onde se utilizam 5 parâmetros semi-empíricos que podem ser obtidos com medições a diferentes temperaturas e irradiâncias, sendo esta a equação:\n",
    "\n",
    "$I_2 = I_m.(1 + \\alpha_{rel}.(T_2 - T_m)).\\frac{G_2}{G_m}$\n",
    "\n",
    "$V_2 = V_m + V_{OC1}.(\\beta_{rel}.(T_2 - T_m)+ a.ln(\\frac{G_2}{G_m})) - R_s.(I_2-I_m) - \\kappa.I_2.(T_2 - T_m)$\n",
    "\n",
    "sendo:\n",
    "\n",
    "$I_m$ e $V_m$ são as correntes e tensões medidas;\n",
    "\n",
    "$I_2$ e $V_2$ são as correntes e tensões transladadas para as condições 2, no caso, STC;\n",
    "\n",
    "$G_m$ e $T_m$ são a irradiância e temperatura na codição medida;\n",
    "\n",
    "$G_2$ e $T_2$ são a irradiância e temperatura na condição desejada, no caso do STC: 1000 W/m² e 25°C;\n",
    "\n",
    "$V_{OC1}$ é a tensão de circuito aberto na condição medida;\n",
    "\n",
    "e os 5 parâmetros:\n",
    "\n",
    "$\\alpha_{rel}$ e $\\beta_{rel}$ são os coeficientes de correção de temperatura a 1000 W/m², normalmente encontrado no datasheet do fabricante;\n",
    "\n",
    "$a$, $R_s} e $\\kappa$ são parâmetros utilizados para transladar e tem alguma relação com tensão térmica $V_d$ da junção PN, com a resistência série e um coeficiente de temperatura da resistência série, respectivamente."
   ]
  },
  {
   "cell_type": "markdown",
   "metadata": {},
   "source": [
    "# Encontrando os parâmetros $\\alpha$ e $\\beta$\n",
    "\n",
    "## Medições de curvas IV sob irradiância próxima a 1000 W/m²"
   ]
  },
  {
   "cell_type": "code",
   "execution_count": 7,
   "metadata": {},
   "outputs": [],
   "source": [
    "curvasIV = dlmread('curvasIV_G1000.csv',',');\n",
    "Vm = curvasIV(:,1);\n",
    "Im = curvasIV(:,2);\n",
    "Tm = curvasIV(:,3);\n",
    "Gm = curvasIV(:,4);"
   ]
  },
  {
   "cell_type": "markdown",
   "metadata": {},
   "source": [
    "Plotando os dados de entrada"
   ]
  },
  {
   "cell_type": "code",
   "execution_count": 9,
   "metadata": {},
   "outputs": [
    {
     "data": {
      "image/png": "[encoded data removed]",
      "text/plain": [
       "<IPython.core.display.Image object>"
      ]
     },
     "metadata": {},
     "output_type": "display_data"
    }
   ],
   "source": [
    "figure\n",
    "plot(Vm,Im, '.')\n",
    "xlim([0 max(Vm)])\n",
    "ylim([0 max(Im)])\n",
    "title('dados de entrada');"
   ]
  },
  {
   "cell_type": "code",
   "execution_count": 10,
   "metadata": {},
   "outputs": [
    {
     "name": "stdout",
     "output_type": "stream",
     "text": [
      "Resultados da regressao:\n",
      "Voc_stc:       21.32811   V\n",
      "beta:          -0.07473   V/ºC\n",
      "beta relativo: -0.35038   %/ºC\n",
      "\n"
     ]
    }
   ],
   "source": [
    "T0 = 25; %temperatura stc\n",
    "E0 = 1000;\n",
    "E = Gm(find(~Im))';\n",
    "Temp = Tm(find(~Im))';\n",
    "%E = unique(Gm');\n",
    "%Temp = unique(Tm');\n",
    "k = 1.38066E-23; % J/K\n",
    "q = 1.60218E-19; % c\n",
    "Ns = 36; %número de células\n",
    "Vth = [Ns*k*(Temp + 273.15)/q];\n",
    "n = 1.2; % for cSi cell\n",
    "Voc = Vm(find(~Im))';\n",
    "Isc = Im(find(~Vm))';\n",
    "\n",
    "%% Regressao para obter beta e Voc0\n",
    "x = [ones(length(Temp),1), [Temp.' - T0]];\n",
    "y = [Voc - n*Vth.*log(E/E0)].';\n",
    "\n",
    "coeficiente = x\\y;\n",
    "Voc_regress = coeficiente(1);\n",
    "beta = coeficiente(2);\n",
    "beta_relativo = coeficiente(2)/Voc_regress*100;\n",
    "fprintf('Resultados da regressao:\\n');\n",
    "fprintf('Voc_stc:       %.5f   V\\n', Voc_regress);\n",
    "fprintf('beta:          %.5f   V/ºC\\n', beta);\n",
    "fprintf('beta relativo: %.5f   %%/ºC\\n\\n',beta_relativo) \n",
    "% Coeficientes Correção\n",
    "%beta =  -0.35468047/100; % [1/ºC] na Tensão"
   ]
  },
  {
   "cell_type": "code",
   "execution_count": 11,
   "metadata": {},
   "outputs": [
    {
     "name": "stdout",
     "output_type": "stream",
     "text": [
      "Resultados da regressao:\n",
      "Isc_stc:       7.67601   A\n",
      "alfa:          0.00462   A/ºC\n",
      "alfa relativo: 0.06015   %/ºC\n"
     ]
    }
   ],
   "source": [
    "xi = [ones(length(Temp),1), [Temp.' - T0]];\n",
    "yi = [Isc.*(E0./E)];\n",
    "\n",
    "coeficiente = xi\\yi.';\n",
    "Isc_regress = coeficiente(1);\n",
    "alfa = coeficiente(2);\n",
    "alfa_relativo = coeficiente(2)/Isc_regress*100;\n",
    "fprintf('Resultados da regressao:\\n');\n",
    "fprintf('Isc_stc:       %.5f   A\\n', Isc_regress);\n",
    "fprintf('alfa:          %.5f   A/ºC\\n', alfa);\n",
    "fprintf('alfa relativo: %.5f   %%/ºC\\n',alfa_relativo)\n",
    "% Coeficientes Correção\n",
    "%alfa =   0.06020000/100; % [1/ºC] na Corrente"
   ]
  },
  {
   "cell_type": "markdown",
   "metadata": {},
   "source": [
    "# Encontrar o Valor de kappa ($\\kappa$)\n",
    "segundo a Norma IEC 60891 de 2009"
   ]
  },
  {
   "cell_type": "code",
   "execution_count": 19,
   "metadata": {},
   "outputs": [
    {
     "name": "stdout",
     "output_type": "stream",
     "text": [
      "Tobj =  49.830\n",
      "k =  1\n",
      "Gobj =  995.79\n"
     ]
    }
   ],
   "source": [
    "% T e G dos valores mínimos de temperatura\n",
    "[Tobj,k] = min(Tm)\n",
    "Gobj = Gm(k)"
   ]
  },
  {
   "cell_type": "code",
   "execution_count": 21,
   "metadata": {},
   "outputs": [],
   "source": [
    "%% correcao para Ponto de Máxima potência\n",
    "function val = max_P_diff_for_Rs(Im,Vm,Tm,Gm, Tobj, Gobj, alfa, beta, Rs, a,kappa)\n",
    "    Voc = Vm(find(~Im));\n",
    "    Voc2 = Voc(1)*ones(58,1); % são 56 dados + Isc + Voc\n",
    "    for i=2:size(Voc,1)\n",
    "        Voc2 = [Voc2; Voc(i)*ones(58,1)];\n",
    "    end\n",
    "    Itransl = Im .* (1 + alfa*(Tobj - Tm)) .* Gobj ./ Gm;\n",
    "    Vtransl = Vm + Voc2.*(beta.*(Tobj - Tm) + a.*log(Gobj./Gm)) - Rs.*(Itransl - Im) - kappa.*Itransl.*(Tobj - Tm);\n",
    "    Pm = Vtransl .* Itransl;\n",
    "    k = find(~Im);\n",
    "    Pmp = max(Pm(1:k(1)));\n",
    "    for i = 2:(size(k,1)-1)\n",
    "        Pmp(i) = max(Pm(k(i):k(i+1)));\n",
    "    end\n",
    "    val = max(abs((Pmp - median(Pmp))./median(Pmp)));\n",
    "end"
   ]
  },
  {
   "cell_type": "code",
   "execution_count": 22,
   "metadata": {},
   "outputs": [
    {
     "name": "stdout",
     "output_type": "stream",
     "text": [
      "kappa = 0.0031528\n",
      "erro_kappa  = 0.0013751\n"
     ]
    }
   ],
   "source": [
    "%% Determinacao de Kappa\n",
    "Rs = 0; a = 0;\n",
    "kappa_objfun = @(kappa) max_P_diff_for_Rs(Im,Vm,Tm,Gm, Tobj, Gobj, alfa_relativo/100, beta_relativo/100, Rs, a, kappa);\n",
    "options = optimset('TolX', 1e-6);\n",
    "kappa = fminsearch(kappa_objfun, 0, options);\n",
    "fprintf('kappa = %.7f\\n', kappa);\n",
    "erro_kappa = kappa_objfun(kappa);\n",
    "fprintf('erro_kappa  = %.7f\\n', erro_kappa);\n",
    "% Coeficientes Correção\n",
    "%kappa = 0.0032334; % [V/A.ºC]"
   ]
  },
  {
   "cell_type": "markdown",
   "metadata": {},
   "source": [
    "## Função para transladar as curvas com os parâmetros já conhecidos"
   ]
  },
  {
   "cell_type": "code",
   "execution_count": 23,
   "metadata": {},
   "outputs": [
    {
     "data": {
      "image/png": "[encoded data removed]",
      "text/plain": [
       "<IPython.core.display.Image object>"
      ]
     },
     "metadata": {},
     "output_type": "display_data"
    }
   ],
   "source": [
    "% Zera os valores que ainda não se sabe\n",
    "% Mas veja que escolhemos curvas de (quase) a mesma irradiância, portanto não vão importar muito\n",
    "% Pois estes parâmetros multiplicam: log(Gobj./Gm)) ou (Itransl - Im)\n",
    "Rs = 0;\n",
    "a = 0;\n",
    "Voc = Vm(find(~Im));\n",
    "Voc2 = Voc(1)*ones(58,1); % são 56 dados + Isc + Voc\n",
    "for i=2:size(Voc,1)\n",
    "    Voc2 = [Voc2; Voc(i)*ones(58,1)];\n",
    "end   \n",
    "Itransl = Im .* (1 + alfa_relativo/100*(Tobj - Tm)) .* Gobj ./ Gm;\n",
    "Vtransl = Vm + Voc2.*((beta_relativo/100)*(Tobj - Tm));% + a*log(Gobj./Gm) - Rs.*(Itransl - Im) - kappa*Itransl.*(Tobj - Tm);\n",
    "figure;\n",
    "plot(Vtransl,Itransl, '.')\n",
    "xlim([0 max(Vtransl)])\n",
    "ylim([0 max(Itransl)])\n",
    "title('Curvas corrigidas com \\alpha, \\beta e \\kappa');"
   ]
  },
  {
   "cell_type": "markdown",
   "metadata": {},
   "source": [
    "# Parâmetros a e Rs\n",
    "## Medições de curvas IV sob (quase a) mesma temperatura"
   ]
  },
  {
   "cell_type": "code",
   "execution_count": 29,
   "metadata": {},
   "outputs": [],
   "source": [
    "curvasIV = dlmread('curvasIV_T_cte.csv',',');\n",
    "Vm = curvasIV(:,1);\n",
    "Im = curvasIV(:,2);\n",
    "Tm = curvasIV(:,3);\n",
    "Gm = curvasIV(:,4);"
   ]
  },
  {
   "cell_type": "code",
   "execution_count": 30,
   "metadata": {},
   "outputs": [
    {
     "data": {
      "image/png": "[encoded data removed]",
      "text/plain": [
       "<IPython.core.display.Image object>"
      ]
     },
     "metadata": {},
     "output_type": "display_data"
    }
   ],
   "source": [
    "figure\n",
    "plot(Vm,Im, '.')\n",
    "xlim([0 max(Vm)])\n",
    "ylim([0 max(Im)])\n",
    "title('dados de entrada');"
   ]
  },
  {
   "cell_type": "markdown",
   "metadata": {},
   "source": [
    "## Definindo a função objetivo para o parâmetro a"
   ]
  },
  {
   "cell_type": "code",
   "execution_count": 31,
   "metadata": {},
   "outputs": [
    {
     "name": "stdout",
     "output_type": "stream",
     "text": [
      "Gobj =  828.56\n",
      "k =  465\n",
      "Tobj =  40.179\n"
     ]
    }
   ],
   "source": [
    "% T e G dos valores máximos de irradiância\n",
    "[Gobj,k] = max(Gm)\n",
    "Tobj = Tm(k)"
   ]
  },
  {
   "cell_type": "code",
   "execution_count": 32,
   "metadata": {},
   "outputs": [],
   "source": [
    "function val = max_Voc_diff_for_a(Voc, T0, G0, Tobj, Gobj, beta, kappa, a)\n",
    "    [Voc_transl] = [Voc] + Voc.*(beta*(Tobj - T0) + a*log(Gobj./G0));% - kappa*Itransl*(Tobj - T0) - Rs*(Itransl - I0);\n",
    "    val = max(abs((Voc_transl - median(Voc_transl))./median(Voc_transl)));\n",
    "end"
   ]
  },
  {
   "cell_type": "code",
   "execution_count": 33,
   "metadata": {},
   "outputs": [
    {
     "name": "stdout",
     "output_type": "stream",
     "text": [
      "a  = 0.0541067\n",
      "erro_a  = 0.0010244\n"
     ]
    }
   ],
   "source": [
    "%% Determinacao de a\n",
    "T0 = Tm(find(~Im))';\n",
    "G0 = Gm(find(~Im))';\n",
    "Voc = Vm(find(~Im))';\n",
    "a_objfun = @(aa) max_Voc_diff_for_a(Voc, T0, G0, Tobj, Gobj, beta_relativo/100, kappa, aa);\n",
    "options = optimset('TolX', 1e-6);\n",
    "a = fminsearch(a_objfun, 0, options);\n",
    "fprintf('a  = %.7f\\n', a);\n",
    "erro_a = a_objfun(a);\n",
    "fprintf('erro_a  = %.7f\\n', erro_a);\n",
    "% Coeficientes Correção\n",
    "%a  = 0.0647002;"
   ]
  },
  {
   "cell_type": "markdown",
   "metadata": {},
   "source": [
    "## Plotando com a, $\\alpha$ e $\\beta$"
   ]
  },
  {
   "cell_type": "code",
   "execution_count": 49,
   "metadata": {},
   "outputs": [
    {
     "data": {
      "image/png": "[encoded data removed]",
      "text/plain": [
       "<IPython.core.display.Image object>"
      ]
     },
     "metadata": {},
     "output_type": "display_data"
    }
   ],
   "source": [
    "% Zera os valores que ainda não se sabe\n",
    "Rs = 0;\n",
    "Voc = Vm(find(~Im));\n",
    "Voc2 = Voc(1)*ones(58,1); % são 56 dados + Isc + Voc\n",
    "for i=2:size(Voc,1)\n",
    "    Voc2 = [Voc2; Voc(i)*ones(58,1)];\n",
    "end  \n",
    "Itransl = Im .* (1 + alfa_relativo/100.*(Tobj - Tm)) .* Gobj ./ Gm;\n",
    "Vtransl = Vm + Voc2.*(beta_relativo/100.*(Tobj - Tm) + a.*log(Gobj./Gm));% - Rs.*(Itransl - Im) - kappa.*Itransl.*(Tobj - Tm);\n",
    "figure\n",
    "plot(Vtransl,Itransl, '.')\n",
    "xlim([0 max(Vtransl)])\n",
    "ylim([0 max(Itransl)])\n",
    "title('Curvas corrigidas com a, \\alpha e \\beta');\n"
   ]
  },
  {
   "cell_type": "markdown",
   "metadata": {},
   "source": [
    "## Definindo a função objetivo para o parâmetro Rs"
   ]
  },
  {
   "cell_type": "code",
   "execution_count": 54,
   "metadata": {},
   "outputs": [],
   "source": [
    "function val = max_P_diff_for_Rs(Itransl, Vtransl, Im, Rs)\n",
    "    Vtransl2 = Vtransl - Rs.*(Itransl - Im);\n",
    "    Pm = Vtransl2 .* Itransl;\n",
    "    k = find(~Im);\n",
    "    Pmp = max(Pm(1:k(1)));\n",
    "    for i = 2:size(k,1)\n",
    "        Pmp(i) = max(Pm(k(i-1):k(i)));\n",
    "    end\n",
    "    val = max(abs((Pmp - median(Pmp))./median(Pmp)));\n",
    "end"
   ]
  },
  {
   "cell_type": "code",
   "execution_count": 55,
   "metadata": {},
   "outputs": [
    {
     "name": "stdout",
     "output_type": "stream",
     "text": [
      "Rs = 0.2312460\n",
      "erro_RS  = 0.0050425\n"
     ]
    }
   ],
   "source": [
    "%% Determinacao de Rs\n",
    "Rs_objfun = @(Rss) max_P_diff_for_Rs(Itransl, Vtransl, Im, Rss);\n",
    "options = optimset('TolX', 1e-6);\n",
    "Rs = fminsearch(Rs_objfun, 1, options);\n",
    "fprintf('Rs = %.7f\\n', Rs);\n",
    "erroRS = Rs_objfun(Rs);\n",
    "fprintf('erro_RS  = %.7f\\n', erroRS);\n",
    "% Coeficientes Correção\n",
    "%Rs = 0.2779663; % [Ohm]"
   ]
  },
  {
   "cell_type": "code",
   "execution_count": 57,
   "metadata": {},
   "outputs": [
    {
     "data": {
      "image/png": "[encoded data removed]",
      "text/plain": [
       "<IPython.core.display.Image object>"
      ]
     },
     "metadata": {},
     "output_type": "display_data"
    }
   ],
   "source": [
    "% Transladar com todos os parâmetros\n",
    "Voc = Vm(find(~Im));\n",
    "Voc2 = Voc(1)*ones(58,1); % são 56 dados + Isc + Voc\n",
    "for i=2:size(Voc,1)\n",
    "    Voc2 = [Voc2; Voc(i)*ones(58,1)];\n",
    "end  \n",
    "Itransl = Im .* (1 + alfa_relativo/100.*(Tobj - Tm)) .* Gobj ./ Gm;\n",
    "Vtransl = Vm + Voc2.*(beta_relativo/100.*(Tobj - Tm) + a.*log(Gobj./Gm)) - Rs.*(Itransl - Im) - kappa.*Itransl.*(Tobj - Tm);\n",
    "figure\n",
    "plot(Vtransl,Itransl, '.')\n",
    "xlim([0 max(Vtransl)])\n",
    "ylim([0 max(Itransl)])\n",
    "title('Curvas corrigidas com a, Rs, \\alpha e \\beta');"
   ]
  },
  {
   "cell_type": "code",
   "execution_count": 60,
   "metadata": {},
   "outputs": [
    {
     "name": "stdout",
     "output_type": "stream",
     "text": [
      "alfa_relativo =  0.060151\n",
      "beta_relativo = -0.35038\n",
      "a =  0.054107\n",
      "Rs =  0.23125\n",
      "kappa =  0.0031528\n"
     ]
    }
   ],
   "source": [
    "% Coeficientes Correção\n",
    "%alfa_relativo =   0.06020000; % [1/ºC] na Corrente\n",
    "%beta_relativo =  -0.35468047; % [1/ºC] na Tensão\n",
    "%a  = 0.0647002;\n",
    "%Rs = 0.2779663; % [Ohm]\n",
    "%kappa = 0.0032334; % [V/A.ºC]\n",
    "alfa_relativo, beta_relativo, a, Rs, kappa"
   ]
  },
  {
   "cell_type": "markdown",
   "metadata": {},
   "source": [
    "# Testando o ajuste"
   ]
  },
  {
   "cell_type": "code",
   "execution_count": 61,
   "metadata": {},
   "outputs": [],
   "source": [
    "curvasIV = dlmread('curvasIV.csv',',');\n",
    "Vm = curvasIV(:,1);\n",
    "Im = curvasIV(:,2);\n",
    "Tm = curvasIV(:,3);\n",
    "Gm = curvasIV(:,4);"
   ]
  },
  {
   "cell_type": "markdown",
   "metadata": {},
   "source": [
    "Plotando os dados de entrada"
   ]
  },
  {
   "cell_type": "code",
   "execution_count": 62,
   "metadata": {},
   "outputs": [
    {
     "data": {
      "image/png": "[encoded data removed]",
      "text/plain": [
       "<IPython.core.display.Image object>"
      ]
     },
     "metadata": {},
     "output_type": "display_data"
    }
   ],
   "source": [
    "figure\n",
    "plot(Vm,Im, '*')\n",
    "xlim([0 max(Vm)])\n",
    "ylim([0 max(Im)])\n",
    "title('dados de entrada');"
   ]
  },
  {
   "cell_type": "code",
   "execution_count": 64,
   "metadata": {},
   "outputs": [],
   "source": [
    "% Projetar para as condições de STC\n",
    "Gobj = 1000; % [W/m2]\n",
    "Tobj = 25; % ºC"
   ]
  },
  {
   "cell_type": "code",
   "execution_count": 69,
   "metadata": {},
   "outputs": [
    {
     "data": {
      "image/png": "[encoded data removed]",
      "text/plain": [
       "<IPython.core.display.Image object>"
      ]
     },
     "metadata": {},
     "output_type": "display_data"
    }
   ],
   "source": [
    "% Transladar com todos os parâmetros\n",
    "Voc = Vm(find(~Im));\n",
    "Voc2 = Voc(1)*ones(56,1); % são 56 dados\n",
    "for i=2:size(Voc,1)\n",
    "    Voc2 = [Voc2; Voc(i)*ones(56,1)];\n",
    "end  \n",
    "Itransl = Im .* (1 + alfa_relativo/100.*(Tobj - Tm)) .* Gobj ./ Gm;\n",
    "Vtransl = Vm + Voc2.*(beta_relativo/100.*(Tobj - Tm) + a.*log(Gobj./Gm)) - Rs.*(Itransl - Im) - kappa.*Itransl.*(Tobj - Tm);\n",
    "figure\n",
    "plot(Vtransl,Itransl, '.')\n",
    "xlim([0 max(Vtransl)+.1])\n",
    "ylim([0 max(Itransl)+.4])\n",
    "title('Curvas corrigidas com a, Rs, \\alpha e \\beta');"
   ]
  },
  {
   "cell_type": "markdown",
   "metadata": {},
   "source": [
    "# Tarefa\n",
    "\n",
    "Escolha um módulo fotovoltaico, elabore um planejamento dos experimentos e faça as medições da curva I-V necessárias. Utilizando a norma IEC 60891 de 2009, faça a extrapolação para as condições STC.\n",
    "Determine os calores de Isc, Voc e do ponto de máxima potência (Vmp, Imp)"
   ]
  }
 ],
 "metadata": {
  "kernelspec": {
   "display_name": "Octave",
   "language": "octave",
   "name": "octave"
  },
  "language_info": {
   "file_extension": ".m",
   "help_links": [
    {
     "text": "GNU Octave",
     "url": "https://www.gnu.org/software/octave/support.html"
    },
    {
     "text": "Octave Kernel",
     "url": "https://github.com/Calysto/octave_kernel"
    },
    {
     "text": "MetaKernel Magics",
     "url": "https://metakernel.readthedocs.io/en/latest/source/README.html"
    }
   ],
   "mimetype": "text/x-octave",
   "name": "octave",
   "version": "5.2.0"
  }
 },
 "nbformat": 4,
 "nbformat_minor": 4
}
