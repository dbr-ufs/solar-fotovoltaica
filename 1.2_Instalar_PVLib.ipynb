{
  "nbformat": 4,
  "nbformat_minor": 0,
  "metadata": {
    "colab": {
      "name": "2. Instalar PVLib.ipynb",
      "provenance": [],
      "toc_visible": true,
      "mount_file_id": "184cPrwo_OvFtdVZVyXtQRKfansm3_5WR",
      "authorship_tag": "ABX9TyPBO1cFq7hQiOd2DBtgonY9",
      "include_colab_link": true
    },
    "kernelspec": {
      "name": "python3",
      "display_name": "Python 3"
    }
  },
  "cells": [
    {
      "cell_type": "markdown",
      "metadata": {
        "id": "view-in-github",
        "colab_type": "text"
      },
      "source": [
        "<a href=\"https://colab.research.google.com/github/dbr-ufs/solar_fotovoltaica/blob/master/2_Instalar_PVLib.ipynb\" target=\"_parent\"><img src=\"https://colab.research.google.com/assets/colab-badge.svg\" alt=\"Open In Colab\"/></a>"
      ]
    },
    {
      "cell_type": "markdown",
      "metadata": {
        "id": "QFHh8zLomQdW",
        "colab_type": "text"
      },
      "source": [
        "# Instalar PVLib\n",
        "\n",
        "Primeiro clique em fazer uma cópia: `Arquivo -> Salvar uma cópia no Drive` \n",
        "\n",
        "Uma vez em seu ambiente de trabalho, na sua cópia desse Notebook.\n",
        "Clique na seta, sob o comando [1]"
      ]
    },
    {
      "cell_type": "markdown",
      "metadata": {
        "id": "o5fZZ7EUbwWo",
        "colab_type": "text"
      },
      "source": [
        "Mais sobre o PVLib: https://pvlib-python.readthedocs.io/en/stable/index.html"
      ]
    },
    {
      "cell_type": "code",
      "metadata": {
        "id": "naf89z7Ne7g1",
        "colab_type": "code",
        "colab": {}
      },
      "source": [
        "!pip install pvlib"
      ],
      "execution_count": null,
      "outputs": []
    },
    {
      "cell_type": "code",
      "metadata": {
        "id": "eXY5Tds_Yd9A",
        "colab_type": "code",
        "colab": {}
      },
      "source": [
        "!pip install jupyterlab"
      ],
      "execution_count": null,
      "outputs": []
    },
    {
      "cell_type": "markdown",
      "metadata": {
        "id": "g0rqNnoHEy4z",
        "colab_type": "text"
      },
      "source": [
        "Pelo que eu entendi, só é necessário executar uma vez essas instalações em sua máquina virtual."
      ]
    },
    {
      "cell_type": "code",
      "metadata": {
        "id": "Z1yl3_TjYmA4",
        "colab_type": "code",
        "colab": {}
      },
      "source": [
        "from google.colab import drive\n",
        "drive.mount('/content/gdrive', force_remount=True)"
      ],
      "execution_count": null,
      "outputs": []
    },
    {
      "cell_type": "markdown",
      "metadata": {
        "id": "AzZrRQemmvI1",
        "colab_type": "text"
      },
      "source": [
        "# Testar a instalação"
      ]
    },
    {
      "cell_type": "markdown",
      "metadata": {
        "colab_type": "text",
        "id": "janIo_uGnCV6"
      },
      "source": [
        "\n",
        "\n",
        "```\n",
        "O resultado deve dizer que demora pouco menos de 2 s para rodar o código.\n",
        "Algo como: \n",
        "1 loop, best of 3: 1.7 s per loop\n",
        "\n",
        "```\n"
      ]
    },
    {
      "cell_type": "code",
      "metadata": {
        "id": "3x4TPUtsfBv5",
        "colab_type": "code",
        "colab": {
          "base_uri": "https://localhost:8080/",
          "height": 35
        },
        "outputId": "a3839b54-2c7a-4b83-a10b-b30c1ee2de02"
      },
      "source": [
        "import pandas as pd\n",
        "import pvlib\n",
        "times = pd.date_range(start='2015', end='2016', freq='1min')\n",
        "%timeit nrel = pvlib.irradiance.get_extra_radiation(times, method='nrel')"
      ],
      "execution_count": null,
      "outputs": [
        {
          "output_type": "stream",
          "text": [
            "1 loop, best of 3: 1.59 s per loop\n"
          ],
          "name": "stdout"
        }
      ]
    },
    {
      "cell_type": "markdown",
      "metadata": {
        "id": "rFRJm0Qw8b3x",
        "colab_type": "text"
      },
      "source": [
        "# Instalando o Octave"
      ]
    },
    {
      "cell_type": "markdown",
      "metadata": {
        "id": "hjDpAOSs8imx",
        "colab_type": "text"
      },
      "source": [
        "Este comando instala o Octave em sua máquina virtual"
      ]
    },
    {
      "cell_type": "code",
      "metadata": {
        "id": "p7hfW7MyngKc",
        "colab_type": "code",
        "colab": {}
      },
      "source": [
        "pip install octave-kernel"
      ],
      "execution_count": null,
      "outputs": []
    },
    {
      "cell_type": "markdown",
      "metadata": {
        "id": "PVXi4yPJ8ouF",
        "colab_type": "text"
      },
      "source": [
        "Agora, para vc poder colocar comandos do Octave aqui no Jupyter, faça assim: "
      ]
    },
    {
      "cell_type": "code",
      "metadata": {
        "id": "gtaETF-YqZkQ",
        "colab_type": "code",
        "colab": {}
      },
      "source": [
        "pip install oct2py"
      ],
      "execution_count": null,
      "outputs": []
    },
    {
      "cell_type": "code",
      "metadata": {
        "id": "Ge3pdV3BqibG",
        "colab_type": "code",
        "colab": {
          "base_uri": "https://localhost:8080/",
          "height": 54
        },
        "outputId": "c9d7b4e4-b1aa-4fd2-db51-4608ec2ad5de"
      },
      "source": [
        "%load_ext oct2py.ipython"
      ],
      "execution_count": null,
      "outputs": [
        {
          "output_type": "stream",
          "text": [
            "The oct2py.ipython extension is already loaded. To reload it, use:\n",
            "  %reload_ext oct2py.ipython\n"
          ],
          "name": "stdout"
        }
      ]
    },
    {
      "cell_type": "markdown",
      "metadata": {
        "id": "Qpqmh2QeFMG0",
        "colab_type": "text"
      },
      "source": [
        "Alguns comandos em Octave/Matlab, só para testar..."
      ]
    },
    {
      "cell_type": "code",
      "metadata": {
        "id": "oNUCiJNXnQId",
        "colab_type": "code",
        "colab": {
          "base_uri": "https://localhost:8080/",
          "height": 91
        },
        "outputId": "5ca8b8e5-b8d6-4cb5-eae2-b0885d983ff2"
      },
      "source": [
        "%%octave\n",
        "for i=1:2\n",
        "    i+1\n",
        "end\n",
        "n = 1:10"
      ],
      "execution_count": null,
      "outputs": [
        {
          "output_type": "display_data",
          "data": {
            "text/plain": [
              "ans =  2"
            ]
          },
          "metadata": {
            "tags": []
          }
        },
        {
          "output_type": "display_data",
          "data": {
            "text/plain": [
              "ans =  3"
            ]
          },
          "metadata": {
            "tags": []
          }
        },
        {
          "output_type": "display_data",
          "data": {
            "text/plain": [
              "n ="
            ]
          },
          "metadata": {
            "tags": []
          }
        },
        {
          "output_type": "display_data",
          "data": {
            "text/plain": [
              ""
            ]
          },
          "metadata": {
            "tags": []
          }
        },
        {
          "output_type": "display_data",
          "data": {
            "text/plain": [
              "    1    2    3    4    5    6    7    8    9   10"
            ]
          },
          "metadata": {
            "tags": []
          }
        },
        {
          "output_type": "display_data",
          "data": {
            "text/plain": [
              ""
            ]
          },
          "metadata": {
            "tags": []
          }
        }
      ]
    },
    {
      "cell_type": "markdown",
      "metadata": {
        "id": "204wfj8k9Bj4",
        "colab_type": "text"
      },
      "source": [
        "É possível também colocar os códigos em outras linguagens de programação, além das 3 originais (`JUlia PHYton e R`). Veja mais em:\n",
        "\n",
        "https://blog.jupyter.org/i-python-you-r-we-julia-baf064ca1fb6\n"
      ]
    },
    {
      "cell_type": "markdown",
      "metadata": {
        "id": "JHFp9iY1rUAL",
        "colab_type": "text"
      },
      "source": [
        "# Primeira Tarefa"
      ]
    },
    {
      "cell_type": "markdown",
      "metadata": {
        "id": "eFhoayTlrQGO",
        "colab_type": "text"
      },
      "source": [
        "*Veja como gerar um gráfico*"
      ]
    },
    {
      "cell_type": "code",
      "metadata": {
        "id": "jp88hNcDTDRz",
        "colab_type": "code",
        "colab": {
          "base_uri": "https://localhost:8080/",
          "height": 277
        },
        "outputId": "91720bf9-61ec-483b-9657-06b073673b78"
      },
      "source": [
        "import matplotlib.pyplot as plt\n",
        "\n",
        "nrel = pvlib.irradiance.get_extra_radiation(times, method='nrel')\n",
        "nrel.plot(label='nrel')\n",
        "plt.legend()\n",
        "plt.ylabel('Extraterrestrial radiation ($W/m^2$)');"
      ],
      "execution_count": null,
      "outputs": [
        {
          "output_type": "display_data",
          "data": {
            "image/png": "[encoded data removed]",
            "text/plain": [
              "<Figure size 432x288 with 1 Axes>"
            ]
          },
          "metadata": {
            "tags": [],
            "needs_background": "light"
          }
        }
      ]
    },
    {
      "cell_type": "markdown",
      "metadata": {
        "id": "mARzURREUFjg",
        "colab_type": "text"
      },
      "source": [
        "Acesse o link: https://www.pveducation.org/es/fotovoltaica/2-propiedades-de-la-luz-del-sol/radiaci%C3%B3n-solar-fuera-de-la-atm%C3%B3sfera-terrestre\n",
        "Implemente a equação e trace um gráfico comparativo com o acima, informando o erro no tempo"
      ]
    },
    {
      "cell_type": "markdown",
      "metadata": {
        "id": "BnNY9Ui4MzA7",
        "colab_type": "text"
      },
      "source": [
        "# Resposta da Primeira Tarefa"
      ]
    },
    {
      "cell_type": "markdown",
      "metadata": {
        "id": "L4PSSj8-Fb75",
        "colab_type": "text"
      },
      "source": [
        "Esta parte deve ficar oculta, inicialmente..."
      ]
    },
    {
      "cell_type": "code",
      "metadata": {
        "id": "7zFewX55JrT_",
        "colab_type": "code",
        "colab": {
          "base_uri": "https://localhost:8080/",
          "height": 54
        },
        "outputId": "ce9dc61a-e688-4c3c-bc1b-77410a48e198"
      },
      "source": [
        "%load_ext oct2py.ipython"
      ],
      "execution_count": null,
      "outputs": [
        {
          "output_type": "stream",
          "text": [
            "The oct2py.ipython extension is already loaded. To reload it, use:\n",
            "  %reload_ext oct2py.ipython\n"
          ],
          "name": "stdout"
        }
      ]
    },
    {
      "cell_type": "code",
      "metadata": {
        "id": "gsrDbRFOJCr7",
        "colab_type": "code",
        "colab": {
          "base_uri": "https://localhost:8080/",
          "height": 437
        },
        "outputId": "2942f97b-3a01-4b82-9704-66d3c428b8d4"
      },
      "source": [
        "%%octave\n",
        "dia = 1:365;\n",
        "H = 1353*(1+0.033*cos(2*pi*(dia-2)/365));\n",
        "plot(dia,H)"
      ],
      "execution_count": null,
      "outputs": [
        {
          "output_type": "display_data",
          "data": {
            "image/png": "[encoded data removed]",
            "text/plain": [
              "<IPython.core.display.Image object>"
            ]
          },
          "metadata": {
            "tags": []
          }
        }
      ]
    },
    {
      "cell_type": "markdown",
      "metadata": {
        "id": "4TWa-2rA65DR",
        "colab_type": "text"
      },
      "source": [
        "# Tarefa de Casa"
      ]
    },
    {
      "cell_type": "markdown",
      "metadata": {
        "id": "vFbA6aq87Knt",
        "colab_type": "text"
      },
      "source": [
        "1. Implemente a equação para a declinação terrestre. \n",
        "\n",
        "Veja em: https://www.pveducation.org/es/fotovoltaica/2-propiedades-de-la-luz-del-sol/angulo-de-declinaci%C3%B3n"
      ]
    },
    {
      "cell_type": "markdown",
      "metadata": {
        "id": "yBADmqN3DiOT",
        "colab_type": "text"
      },
      "source": [
        "Explore os exemplos (`Arquivo -> Abrir Notebook -> Exemplos`), como o \"Charting in Colaboratory\" que tem exemplos de apresentação gráfica dos resultados"
      ]
    }
  ]
}