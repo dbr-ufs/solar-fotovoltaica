{
 "cells": [
  {
   "cell_type": "markdown",
   "metadata": {
    "colab_type": "text",
    "id": "3Gs-Cv2v86xj"
   },
   "source": [
    "# Estimando os Parâmetros Elétricos do Modelo de Um Diodo via Jaya\n",
    "\n",
    "Para tornar a convergência mais rápida, diminui o maxFes = 1000. Aumente se necessário! Roda em Octave ou Matlab."
   ]
  },
  {
   "cell_type": "markdown",
   "metadata": {
    "colab_type": "text",
    "id": "W4kU9XZw86yi"
   },
   "source": [
    "Para rodar online, use: https://mybinder.org/v2/gh/Calysto/octave_kernel/master?urlpath=/lab/tree/octave_kernel.ipynb"
   ]
  },
  {
   "cell_type": "code",
   "execution_count": 4,
   "metadata": {
    "colab": {},
    "colab_type": "code",
    "id": "9JzARR9486yl"
   },
   "outputs": [],
   "source": [
    "%%octave\n",
    "\n",
    "function [Iph, I0, n, Rs, Rp, RMSE] = Jaya_PV_Original(Vmed, Imed, Ns, T, lim_inf, lim_sup, RUNS, pop, maxFes)\n",
    "%%\n",
    "% Descricao:\n",
    "%   Computa o algoritimo gentico Jaya de um diodo\n",
    "%\n",
    "% Entradas:\n",
    "%   Vmed - vetor de tensao medida [V]\n",
    "%   Imed - vetor de corrente medida [A]\n",
    "%   Ns   - numero de celulas\n",
    "%   T    - temperatura do mdulo  [C]\n",
    "%   lim_inf - vetor dos limites inferiores dos parametros a\n",
    "%      serem estimados. Formato: [Iph_min, I0_min, n_min, Rs_min, Rp_min];\n",
    "%   lim_sup - vetor dos limites superiores dos parametros a\n",
    "%      serem estimados. Formato: [Iph_max, I0_max, n_max, Rs_max, Rp_max];\n",
    "%   RUNS - quantidade de rodadas\n",
    "%   pop - tamanho da populacao de cada rodada\n",
    "%   maxFes - quantidade maxima de avaliacao da funcao objetivo\n",
    "%\n",
    "% Saidas:\n",
    "%   Iph - corrente fotogerada\n",
    "%   I0 - corrente de saturacao reversa\n",
    "%   n - indice de idealidade do diodo\n",
    "%   Rs - resistencia serie\n",
    "%   Rp - resistencia paralelo\n",
    "%   RMSE - erro quadradico medio\n",
    "\n",
    "%% Constantes\n",
    "k = 1.3806503e-23;    % Boltzmann [J/K]\n",
    "q = 1.60217646e-19;   % Electron charge [C]\n",
    "T = T + 273.15;       % Tempeture [K]\n",
    "Vt = Ns*k*T/q;        \n",
    "%%\n",
    "% Default values for RUNS, pop and maxFes.\n",
    "if isnan(RUNS)\n",
    "    RUNS = 10;  \n",
    "end\n",
    "if isnan(pop)\n",
    "    pop = 20;\n",
    "end\n",
    "if isnan(maxFes)\n",
    "    maxFes = 1000; % 50000 para melhores resultados\n",
    "end \n",
    "%% \n",
    "maxGen = floor(maxFes/pop); % quantidade maxima de geracoes\n",
    "%var = [Iph, I0, n, Rs, Rp];\n",
    "mini = lim_inf;       % limite inferior\n",
    "maxi = lim_sup;       % limite superior\n",
    "[~,var] = size(mini); % var  a quantidade de variaves.\n",
    "runs = 1;             % contador de rodadas    \n",
    "while(runs <= RUNS)\n",
    "    %% inicializacao da populacao\n",
    "    x = zeros(pop, var);\n",
    "    for i = 1:var\n",
    "        x(:,i) = mini(i)+(maxi(i)-mini(i))*rand(pop,1);\n",
    "    end\n",
    "    %%\n",
    "    gen = 1; % contador de geracoes\n",
    "    f = myobj(x, Vt, Imed, Vmed); % fitness inicial\n",
    "    while(gen <= maxGen)\n",
    "        xnew = updatepopulation(x, f);      % Cria nova populacao\n",
    "        xnew = trimr(mini,maxi,xnew);       % Manter variaveis dentro dos limites\n",
    "        fnew = myobj(xnew, Vt, Imed, Vmed); % Avalia fitness da nova polulacao\n",
    "\n",
    "        for i = 1:pop\n",
    "            if(fnew(i) < f(i))  % Os novos individuos possuem fitness melhor?\n",
    "                x(i,:) = xnew(i,:);\n",
    "                f(i) = fnew(i);\n",
    "            end\n",
    "        end\n",
    "        fopt(gen) = min(f); % Vetor que armazena o melhor fitness de cada gerao\n",
    "        gen = gen+1;\n",
    "    end\n",
    "    [fmin, id] = min(f);\n",
    "    xmelhores(runs,:) =  [x(id,:), fmin]; % Vetor que armazena o melhor de cada rodada\n",
    "%% Plotar graficos a cada fim de gerao\n",
    "%    disp('Parametros obtidos no ciclo i')\n",
    "%    Iph = x(id,1)\n",
    "%    I0 = x(id,2)\n",
    "%    n = x(id,3)\n",
    "%    Rs = x(id,4)\n",
    "%    Rp = x(id,5)    \n",
    "%    figure(runs)\n",
    "%    plot(Vmed, Imed,'o');\n",
    "%    hold on    \n",
    "%    fmodelo = @(V,I) (I - Iph*ones(size(I)) + I0*(exp((V+I*Rs)/(n*Vt))-1) + (V+I*Rs)/Rp);\n",
    "    % fimplicit(fmodelo,[0 Vmed(end) 0 Imed(1)]);\n",
    "%    ezplot(fmodelo,[0 20 0 7.8]); % Mudar\n",
    "   %temp = input('digite algo');\n",
    "%    xlim([0 Vmed(end)+1])\n",
    "%    ylim([0, Imed(1) + 0.2])\n",
    "%%    \n",
    "%     [val,ind] = min(fopt);   % \n",
    "%     Fes(runs) = pop*ind;     % number of function evaluations\n",
    "%     best(runs) = val;\n",
    "    runs = runs+1;\n",
    "end\n",
    "% valores medios dos parametros\n",
    "%disp('Parametros medios')    \n",
    "%Iph_med = mean(xmelhores(:,1))\n",
    "%I0_med = mean(xmelhores(:,2))\n",
    "%n_med = mean(xmelhores(:,3))\n",
    "%Rs_med = mean(xmelhores(:,4))\n",
    "%Rp_med = mean(xmelhores(:,5))\n",
    "%f_med = mean(xmelhores(:,6))\n",
    "\n",
    "%% Melhor resultado\n",
    "[temp, id] = min(xmelhores(:,6));\n",
    "Iph = xmelhores(id,1);\n",
    "I0 = xmelhores(id,2);\n",
    "n = xmelhores(id,3);\n",
    "Rs = xmelhores(id,4);\n",
    "Rp = xmelhores(id,5);\n",
    "RMSE = xmelhores(id,6);\n",
    "%disp('n Melhor resultado')\n",
    "%disp('[Iph, I0, n, Rs, Rp, fitness]');\n",
    "%disp(xmelhores(id,:))\n",
    "%fprintf('n Iph(A) = %f',xmelhores(id,1));\n",
    "%fprintf('n I0(uA) = %f',xmelhores(id,2)*10^6);\n",
    "%fprintf('n n = %f',xmelhores(id,3));\n",
    "%fprintf('n Rs(ohms) = %f',xmelhores(id,4));\n",
    "%fprintf('n Rph(ohms) = %f',xmelhores(id,5));\n",
    "%fprintf('n fmin = %f',xmelhores(id,6));\n",
    "\n",
    "\n",
    "\n",
    "%% Mostra resultados em termos de desvio padrao, media, minimo e max fitness\n",
    "%bbest = min(best);   \n",
    "%mbest = mean(best);  \n",
    "%wbest = max(best);   \n",
    "%stdbest = std(best);\n",
    "%mFes = mean(Fes);\n",
    "%fprintf('nn best = %f',bbest);\n",
    "%fprintf('n mean = %f',mbest);\n",
    "%fprintf('n worst = %f',wbest);\n",
    "%fprintf('n std. dev. = %f',stdbest);\n",
    "%fprintf('n mean Fes = %f',mFes);\n",
    "%fprintf('n');\n",
    "end\n",
    "\n",
    "%%\n",
    "function [z] = trimr(mini, maxi, x)\n",
    "[~,var] = size(x);\n",
    "for i = 1:var\n",
    "    x(x(:,i)<mini(i), i) = mini(i);\n",
    "    x(x(:,i)>maxi(i), i) = maxi(i);\n",
    "end\n",
    "z = x;\n",
    "end\n",
    "%% \n",
    "function [xnew] = updatepopulation(x, f)\n",
    "[pop, var] = size(x);\n",
    "[~, id_best] = min(f);\n",
    "[~, id_worst] = max(f);\n",
    "best = x(id_best,:);\n",
    "worst = x(id_worst,:);\n",
    "xnew = zeros(pop,var); % pre alocacao de memoria\n",
    "% for i = 1:pop\n",
    "%     for j = 1:var\n",
    "%         r = rand(1,2);\n",
    "%         xnew(i,j) = x(i,j) + r(1)*(best(j)-abs(x(i,j))) - r(2)*(worst(j)-abs(x(i,j)));\n",
    "%     end\n",
    "% end\n",
    "%% TESTAR ISSO AQUI!!!!!\n",
    "R1 = rand(pop,var);\n",
    "R2 = rand(pop,var);\n",
    "xnew = x + R1.*(best - abs(x)) - R2.*(worst - abs(x));\n",
    "\n",
    "end\n",
    "%%"
   ]
  },
  {
   "cell_type": "markdown",
   "metadata": {
    "colab_type": "text",
    "id": "S5dtK54786yw"
   },
   "source": [
    "Define-se a função objetivo, no caso o erro quadrático médio (RMSE) da corrente:"
   ]
  },
  {
   "cell_type": "code",
   "execution_count": 5,
   "metadata": {
    "colab": {},
    "colab_type": "code",
    "id": "jtD9DVYo86yx"
   },
   "outputs": [],
   "source": [
    "%%octave\n",
    "\n",
    "function [f] = myobj(x, Vt, Imed, Vmed)\n",
    "[pop,~] = size(x);\n",
    "RMSE = zeros(1,pop); % pre-alocacao de memoria\n",
    "for i = 1:pop\n",
    "    Iph = x(i,1);\n",
    "    I0 = x(i,2);\n",
    "    n = x(i,3);\n",
    "    Rs = x(i,4);\n",
    "    Rp = x(i,5);\n",
    "    RMSE(i) = sqrt(sum((Imed - Iph*ones(size(Imed)) + I0*(exp((Vmed+Imed*Rs)/(n*Vt))-1) + (Vmed+Imed*Rs)/Rp).^2)/length(Imed));\n",
    "end\n",
    "f = RMSE;\n",
    "end"
   ]
  },
  {
   "cell_type": "markdown",
   "metadata": {
    "colab_type": "text",
    "id": "JRd-yeHr86y8"
   },
   "source": [
    "## Tarefa 1\n",
    "\n",
    "Observe que para o cálculo do RMSE se utiliza o valor da corrente medida (Imed). Em si isso gera um pequeno erro, uma vez que o valor medido se difere do estimado. Estamos estudando uma forma de contornar isso. Dê e implemente uma sugestão."
   ]
  },
  {
   "cell_type": "markdown",
   "metadata": {
    "colab_type": "text",
    "id": "f7uygzCz86y_"
   },
   "source": [
    "# Chamando a função"
   ]
  },
  {
   "cell_type": "code",
   "execution_count": 7,
   "metadata": {
    "colab": {
     "base_uri": "https://localhost:8080/",
     "height": 568
    },
    "colab_type": "code",
    "id": "BtuqI8ms86zA",
    "outputId": "38adc83c-6856-46bf-b3f7-a398bb566435"
   },
   "outputs": [
    {
     "name": "stdout",
     "output_type": "stream",
     "text": [
      " Parametros obtidos:\n",
      " Iph(A) = 1.028178\n",
      " I0(uA) = 5.201811\n",
      " n = 1.395238\n",
      " Rs(ohms) = 1.161067\n",
      " Rp(ohms) = 1949.018447\n",
      " RMSE = 0.002743 \n",
      "error: scalar cannot be indexed with .\n"
     ]
    },
    {
     "data": {
      "image/png": "[encoded data removed]",
      "text/plain": [
       "<IPython.core.display.Image object>"
      ]
     },
     "metadata": {},
     "output_type": "display_data"
    }
   ],
   "source": [
    "%%octave\n",
    "warning('off')\n",
    "%% Dados de entrada\n",
    "%A = load('Dados_Photowatt-PWP 201.txt');\n",
    "% Vetor de tensoes medidas  [V]\n",
    "Vmed = [0.1248;1.80930;3.35110;4.76220;6.05380;7.23640;8.31890;9.30970;10.2163;11.0449;11.8018;12.4929;13.1231;13.6983;14.2221;14.6995;15.1346;15.5311;15.8929;16.2229;16.5241;16.7987;17.0499;17.2793;17.4885];  \n",
    "% Vetor de correntes medidas [A]\n",
    "Imed = [1.03150;1.03000;1.02600;1.02200;1.01800;1.01550;1.01400;1.01000;1.00350;0.988000;0.963000;0.925500;0.872500;0.807500;0.726500;0.634500;0.534500;0.427500;0.318500;0.208500;0.101000;-0.00800000;-0.111000;-0.209000;-0.303000];\n",
    "Tc = 45; %[C]\n",
    "T = Tc + 273.15; %[K]\n",
    "Ns = 36;\n",
    "\n",
    "%% Criterios de ajuste\n",
    "% var = [Iph, I0, n, Rs, Rp];\n",
    "limite_inf = [0, 0, 1, 0, 0];            % limite inferior\n",
    "limite_sup = [max(Imed)*1.1, 50*10^-6, 2, 2, 2000];  % limite superior\n",
    "\n",
    "RUNS = 30;\n",
    "pop = 20;\n",
    "maxFes = 10000; % 50000 para bons resultados\n",
    "graphic = false;\n",
    "[Iph, I0, n, Rs, Rp, RMSE] =  Jaya_PV_Original(Vmed, Imed, Ns, Tc, limite_inf, limite_sup, RUNS, pop, maxFes);\n",
    "fprintf(' Parametros obtidos:')\n",
    "fprintf('\\n Iph(A) = %f',Iph);\n",
    "fprintf('\\n I0(uA) = %f',I0*10^6);\n",
    "fprintf('\\n n = %f',n);\n",
    "fprintf('\\n Rs(ohms) = %f',Rs);\n",
    "fprintf('\\n Rp(ohms) = %f',Rp);\n",
    "fprintf('\\n RMSE = %f \\n',RMSE);\n",
    "\n",
    "\n",
    "plot(Vmed, Imed,'ro');\n",
    "hold on\n",
    "\n",
    "% plotagem do modelo obtido\n",
    "k = 1.3806503e-23; q = 1.60217646e-19;   %\n",
    "Vt = Ns*k*T/q;\n",
    "\n",
    "modelo = @(V,I) (I - Iph + I0*(exp((V+I*Rs)/(n*Vt))-1) + (V+I*Rs)/Rp);\n",
    "ezplot(modelo,[0 max(Vmed)*1.03 0 max(Imed)*1.03]);\n",
    "title(['Curva IV - Medido e Modelo'])\n",
    "xlim([0, max(Vmed)*1.03])\n",
    "ylim([0, max(Imed)*1.03])\n",
    "xlabel('Tensao (V)')\n",
    "ylabel('Corrente (A)')\n",
    "leng1 = legend('Dados', 'Modelo');\n",
    "leng1.Location = 'best';\n",
    "rmsetext = ['RMSE = ', num2str(RMSE,'%e')]; \n",
    "text(0.5, 0.25, rmsetext);"
   ]
  },
  {
   "cell_type": "code",
   "execution_count": null,
   "metadata": {},
   "outputs": [],
   "source": []
  }
 ],
 "metadata": {
  "colab": {
   "collapsed_sections": [],
   "name": "Est_Par_1_Diodo_Jaya.ipynb",
   "provenance": []
  },
  "kernelspec": {
   "display_name": "Octave",
   "language": "octave",
   "name": "octave"
  },
  "language_info": {
   "file_extension": ".m",
   "help_links": [
    {
     "text": "GNU Octave",
     "url": "https://www.gnu.org/software/octave/support.html"
    },
    {
     "text": "Octave Kernel",
     "url": "https://github.com/Calysto/octave_kernel"
    },
    {
     "text": "MetaKernel Magics",
     "url": "https://metakernel.readthedocs.io/en/latest/source/README.html"
    }
   ],
   "mimetype": "text/x-octave",
   "name": "octave",
   "version": "5.2.0"
  }
 },
 "nbformat": 4,
 "nbformat_minor": 1
}
